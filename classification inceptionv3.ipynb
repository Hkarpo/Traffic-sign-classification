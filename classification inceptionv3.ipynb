{
 "cells": [
  {
   "cell_type": "code",
   "execution_count": 1,
   "metadata": {},
   "outputs": [],
   "source": [
    "import torch\n",
    "import torchvision\n",
    "from torchvision import transforms\n",
    "import matplotlib.pyplot as plt\n",
    "from torchvision.datasets import ImageFolder"
   ]
  },
  {
   "cell_type": "code",
   "execution_count": 3,
   "metadata": {},
   "outputs": [],
   "source": [
    "# 读取数据\n",
    "train_dir='/home/tsinghuaee113/jupyter_projects/Classification/Data/Train'\n",
    "val_dir='/home/tsinghuaee113/jupyter_projects/Classification/Data/Val'\n",
    "test_dir='/home/tsinghuaee113/jupyter_projects/Classification/Data/Test'\n",
    "transform  = transforms.Compose([\n",
    "    transforms.Resize((299,299)),\n",
    "    #transforms.RandomHorizontalFlip(),\n",
    "    transforms.ToTensor(),\n",
    "    transforms.Normalize(mean=[0.5, 0.5, 0.5], std=[0.4, 0.4, 0.4]),\n",
    "])\n",
    "#读取数据时对数据进行初步处理：大小归一化，值强度归一化\n",
    "trainset = ImageFolder(train_dir, transform=transform)\n",
    "trainloader = torch.utils.data.DataLoader(trainset, batch_size=32,\n",
    "                                          shuffle=True, num_workers=4)\n",
    "\n",
    "valset=ImageFolder(val_dir,transform=transform)\n",
    "valloader = torch.utils.data.DataLoader(valset, batch_size=32,\n",
    "                                        shuffle=True, num_workers=4)\n",
    "'''\n",
    "testset=ImageFolder(test_dir,transform=transform)       #error？\n",
    "testloader = torch.utils.data.DataLoader(testset, batch_size=32,\n",
    "                                        shuffle=True, num_workers=4)\n",
    "'''\n",
    "classes = ('i2', 'i4', 'i5', 'io','ip','p5','p11','p23','p26','pl5','pl30','pl40','pl50','pl60'\n",
    "           'pl60','pl80','pn','pne','po','w57')"
   ]
  },
  {
   "cell_type": "code",
   "execution_count": 4,
   "metadata": {},
   "outputs": [],
   "source": [
    "import torch.nn as nn\n",
    "import torch.nn.functional as F\n",
    "# get model and replace the original fc layer with your fc layer\n",
    "from torchvision import models\n",
    "from torch import nn\n",
    "net=models.inception_v3(pretrained=True)\n",
    "num_ftrs=net.fc.in_features\n",
    "net.fc=nn.Linear(num_ftrs,19)\n",
    "net.aux_logits=False"
   ]
  },
  {
   "cell_type": "code",
   "execution_count": 5,
   "metadata": {},
   "outputs": [],
   "source": [
    "#定义优化模型\n",
    "import torch.optim as optim\n",
    "criterion = nn.CrossEntropyLoss()\n",
    "\n",
    "optimizer = optim.SGD(net.parameters(), lr=0.005, momentum=0.8)\n",
    "scheduler=optim.lr_scheduler.StepLR(optimizer,step_size=10000,gamma=0.3) # 学习10000步后学习率乘0.1递减"
   ]
  },
  {
   "cell_type": "code",
   "execution_count": 6,
   "metadata": {},
   "outputs": [
    {
     "name": "stdout",
     "output_type": "stream",
     "text": [
      "[1,   100] loss: 1.384\n",
      "[1,   200] loss: 0.292\n",
      "[1,   300] loss: 0.160\n",
      "[2,   100] loss: 0.092\n",
      "[2,   200] loss: 0.087\n",
      "[2,   300] loss: 0.070\n",
      "[3,   100] loss: 0.067\n",
      "[3,   200] loss: 0.049\n",
      "[3,   300] loss: 0.052\n",
      "[4,   100] loss: 0.040\n",
      "[4,   200] loss: 0.027\n",
      "[4,   300] loss: 0.028\n",
      "[5,   100] loss: 0.018\n",
      "[5,   200] loss: 0.020\n",
      "[5,   300] loss: 0.033\n",
      "[6,   100] loss: 0.021\n",
      "[6,   200] loss: 0.012\n",
      "[6,   300] loss: 0.020\n",
      "[7,   100] loss: 0.011\n",
      "[7,   200] loss: 0.016\n",
      "[7,   300] loss: 0.022\n",
      "[8,   100] loss: 0.007\n",
      "[8,   200] loss: 0.015\n",
      "[8,   300] loss: 0.011\n",
      "[9,   100] loss: 0.012\n",
      "[9,   200] loss: 0.006\n",
      "[9,   300] loss: 0.015\n",
      "[10,   100] loss: 0.011\n",
      "[10,   200] loss: 0.007\n",
      "[10,   300] loss: 0.006\n",
      "[11,   100] loss: 0.004\n",
      "[11,   200] loss: 0.005\n",
      "[11,   300] loss: 0.003\n",
      "[12,   100] loss: 0.003\n",
      "[12,   200] loss: 0.003\n",
      "[12,   300] loss: 0.004\n",
      "[13,   100] loss: 0.003\n",
      "[13,   200] loss: 0.002\n",
      "[13,   300] loss: 0.003\n",
      "[14,   100] loss: 0.002\n",
      "[14,   200] loss: 0.002\n",
      "[14,   300] loss: 0.001\n",
      "[15,   100] loss: 0.001\n",
      "[15,   200] loss: 0.001\n",
      "[15,   300] loss: 0.001\n",
      "[16,   100] loss: 0.002\n",
      "[16,   200] loss: 0.002\n",
      "[16,   300] loss: 0.005\n",
      "[17,   100] loss: 0.006\n",
      "[17,   200] loss: 0.004\n",
      "[17,   300] loss: 0.002\n",
      "[18,   100] loss: 0.002\n",
      "[18,   200] loss: 0.002\n",
      "[18,   300] loss: 0.002\n",
      "[19,   100] loss: 0.001\n",
      "[19,   200] loss: 0.002\n",
      "[19,   300] loss: 0.004\n",
      "[20,   100] loss: 0.003\n",
      "[20,   200] loss: 0.001\n",
      "[20,   300] loss: 0.004\n",
      "[21,   100] loss: 0.005\n",
      "[21,   200] loss: 0.004\n",
      "[21,   300] loss: 0.002\n",
      "[22,   100] loss: 0.003\n",
      "[22,   200] loss: 0.001\n",
      "[22,   300] loss: 0.001\n",
      "[23,   100] loss: 0.001\n",
      "[23,   200] loss: 0.001\n",
      "[23,   300] loss: 0.001\n",
      "[24,   100] loss: 0.003\n",
      "[24,   200] loss: 0.001\n",
      "[24,   300] loss: 0.003\n",
      "[25,   100] loss: 0.001\n",
      "[25,   200] loss: 0.001\n",
      "[25,   300] loss: 0.001\n",
      "[26,   100] loss: 0.001\n",
      "[26,   200] loss: 0.003\n",
      "[26,   300] loss: 0.001\n",
      "[27,   100] loss: 0.000\n",
      "[27,   200] loss: 0.000\n",
      "[27,   300] loss: 0.000\n",
      "[28,   100] loss: 0.001\n",
      "[28,   200] loss: 0.001\n",
      "[28,   300] loss: 0.002\n",
      "[29,   100] loss: 0.002\n",
      "[29,   200] loss: 0.001\n",
      "[29,   300] loss: 0.001\n",
      "[30,   100] loss: 0.001\n",
      "[30,   200] loss: 0.001\n",
      "[30,   300] loss: 0.000\n",
      "[31,   100] loss: 0.001\n",
      "[31,   200] loss: 0.001\n",
      "[31,   300] loss: 0.000\n",
      "[32,   100] loss: 0.001\n",
      "[32,   200] loss: 0.001\n",
      "[32,   300] loss: 0.001\n",
      "Finished Training\n"
     ]
    }
   ],
   "source": [
    "# training part\n",
    "import os\n",
    "\n",
    "# 指定GPU\n",
    "os.environ[\"CUDA_VISIBLE_DEVICES\"]=\"2\"\n",
    "net=net.cuda()\n",
    "\n",
    "#训练网络\n",
    "for epoch in range(32):  # loop over the dataset multiple times\n",
    "    running_loss = 0.0\n",
    "    for i, data in enumerate(trainloader, 0):\n",
    "        # get the inputs; data is a list of [inputs, labels]\n",
    "        inputs, labels = data\n",
    "\n",
    "        inputs=inputs.cuda()\n",
    "        labels=labels.cuda()\n",
    "\n",
    "        # zero the parameter gradients\n",
    "        optimizer.zero_grad()\n",
    "\n",
    "        # forward + backward + optimize\n",
    "        outputs = net(inputs)\n",
    "        loss = criterion(outputs, labels)\n",
    "        loss.backward()\n",
    "\n",
    "        optimizer.step()\n",
    "        scheduler.step()\n",
    "\n",
    "        # print statistics\n",
    "        running_loss += loss.item()\n",
    "        if i % 100 == 99:    # print every 200 mini-batches\n",
    "            print('[%d, %5d] loss: %.3f' %\n",
    "                  (epoch + 1, i + 1, running_loss / 100))\n",
    "            running_loss = 0.0\n",
    "\n",
    "print('Finished Training')"
   ]
  },
  {
   "cell_type": "code",
   "execution_count": 7,
   "metadata": {},
   "outputs": [],
   "source": [
    "PATH = './1_inception.pth'\n",
    "torch.save(net.state_dict(), PATH)"
   ]
  },
  {
   "cell_type": "code",
   "execution_count": 8,
   "metadata": {},
   "outputs": [
    {
     "data": {
      "text/plain": [
       "<All keys matched successfully>"
      ]
     },
     "execution_count": 8,
     "metadata": {},
     "output_type": "execute_result"
    }
   ],
   "source": [
    "net = models.inception_v3(pretrained=True)\n",
    "num_ftrs=net.fc.in_features\n",
    "net.fc=nn.Linear(num_ftrs,19)\n",
    "\n",
    "net.load_state_dict(torch.load(PATH))"
   ]
  },
  {
   "cell_type": "code",
   "execution_count": 9,
   "metadata": {},
   "outputs": [
    {
     "name": "stdout",
     "output_type": "stream",
     "text": [
      "Accuracy of the network on the test images: 98 %\n"
     ]
    }
   ],
   "source": [
    "#统计正确率\n",
    "correct = 0\n",
    "total = 0\n",
    "with torch.no_grad():\n",
    "    for data in valloader:\n",
    "        images, labels = data\n",
    "        outputs = net(images)\n",
    "        _, predicted = torch.max(outputs.logits, 1)\n",
    "        total += labels.size(0)\n",
    "        correct += (predicted == labels).sum().item()\n",
    "\n",
    "print('Accuracy of the network on the test images: %d %%' % (\n",
    "    100 * correct / total))"
   ]
  },
  {
   "cell_type": "code",
   "execution_count": 10,
   "metadata": {},
   "outputs": [
    {
     "name": "stdout",
     "output_type": "stream",
     "text": [
      "Accuracy of    i2 : 100 %\n",
      "Accuracy of    i4 : 100 %\n",
      "Accuracy of    i5 : 100 %\n",
      "Accuracy of    io : 98 %\n",
      "Accuracy of    ip : 100 %\n",
      "Accuracy of    p5 : 99 %\n",
      "Accuracy of   p11 : 100 %\n",
      "Accuracy of   p23 : 98 %\n",
      "Accuracy of   p26 : 100 %\n",
      "Accuracy of   pl5 : 98 %\n",
      "Accuracy of  pl30 : 100 %\n",
      "Accuracy of  pl40 : 98 %\n",
      "Accuracy of  pl50 : 99 %\n",
      "Accuracy of pl60pl60 : 100 %\n",
      "Accuracy of  pl80 : 99 %\n",
      "Accuracy of    pn : 98 %\n",
      "Accuracy of   pne : 100 %\n",
      "Accuracy of    po : 93 %\n",
      "Accuracy of   w57 : 100 %\n"
     ]
    }
   ],
   "source": [
    "#统计各类别的正确率\n",
    "class_correct = list(0. for i in range(19))\n",
    "class_total = list(0. for i in range(19))\n",
    "with torch.no_grad():\n",
    "    for data in valloader:\n",
    "        images, labels = data\n",
    "        outputs = net(images)\n",
    "        _, predicted = torch.max(outputs.logits, 1)\n",
    "        for i in range(labels.shape[0]):\n",
    "            label = labels[i]\n",
    "            class_correct[label] += (predicted[i] == labels[i]).sum().item()\n",
    "            class_total[label] += 1\n",
    "\n",
    "for i in range(19):\n",
    "    print('Accuracy of %5s : %2d %%' % (\n",
    "        classes[i], 100 * class_correct[i] / class_total[i]))"
   ]
  },
  {
   "cell_type": "code",
   "execution_count": null,
   "metadata": {},
   "outputs": [],
   "source": [
    "#测试集结果\n",
    "with torch.no_grad():\n",
    "    for data in testloader:\n",
    "        images, labels = data\n",
    "        outputs = net(images)\n",
    "        _, predicted = torch.max(outputs.logits, 1)\n",
    "#predicted是预测的label，但没看懂存成什么格式，改天再说"
   ]
  }
 ],
 "metadata": {
  "kernelspec": {
   "display_name": "Python (myenv_1)",
   "language": "python",
   "name": "myenv_1"
  },
  "language_info": {
   "codemirror_mode": {
    "name": "ipython",
    "version": 3
   },
   "file_extension": ".py",
   "mimetype": "text/x-python",
   "name": "python",
   "nbconvert_exporter": "python",
   "pygments_lexer": "ipython3",
   "version": "3.7.7"
  }
 },
 "nbformat": 4,
 "nbformat_minor": 4
}
