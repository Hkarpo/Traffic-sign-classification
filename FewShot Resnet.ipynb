{
 "cells": [
  {
   "cell_type": "code",
   "execution_count": 1,
   "metadata": {},
   "outputs": [],
   "source": [
    "#%%\n",
    "import torch\n",
    "import torchvision\n",
    "from torchvision import transforms\n",
    "import matplotlib.pyplot as plt\n",
    "from torchvision.datasets import ImageFolder\n",
    "import torch.nn as nn\n",
    "import torch.nn.functional as F\n",
    "from torchvision import models\n",
    "from torch import nn\n",
    "\n",
    "# 读取数据\n",
    "train_dir='/home/tsinghuaee112/Classification/DataFewShot/Train'\n",
    "val_dir='/home/tsinghuaee112/Classification/DataFewShot/Val'\n",
    "transform  = transforms.Compose([\n",
    "         transforms.Resize((64,64)),\n",
    "         #transforms.RandomHorizontalFlip(),\n",
    "         transforms.ToTensor(),\n",
    "         transforms.Normalize(mean=[0.5, 0.5, 0.5], std=[0.4, 0.4, 0.4]),\n",
    "])#读取数据时对数据进行初步处理：大小归一化，值强度归一化\n",
    "trainset = ImageFolder(train_dir, transform=transform)\n",
    "valset=ImageFolder(val_dir,transform=transform)\n",
    "\n"
   ]
  },
  {
   "cell_type": "code",
   "execution_count": 2,
   "metadata": {},
   "outputs": [],
   "source": [
    "#%%\n",
    "#数据划分batch\n",
    "trainloader = torch.utils.data.DataLoader(trainset, batch_size=32,\n",
    "                                          shuffle=True, num_workers=2)\n",
    "valloader = torch.utils.data.DataLoader(valset, batch_size=32,\n",
    "                                         shuffle=True, num_workers=2)\n",
    "classes = ('p1','p3','p6','p9','p12','p14','p17','p19','p22','p25','p27')\n"
   ]
  },
  {
   "cell_type": "code",
   "execution_count": 3,
   "metadata": {},
   "outputs": [],
   "source": [
    "\n",
    "#%%\n",
    "\n",
    "#网络模型\n",
    "\n",
    "#class Net(nn.Module):\n",
    "#    def __init__(self):\n",
    "#        super(Net, self).__init__()\n",
    "#        self.conv1 = nn.Conv2d(3, 6, 5)\n",
    "#        self.pool = nn.MaxPool2d(2, 2)\n",
    "#        self.conv2 = nn.Conv2d(6, 16, 5)\n",
    "#        self.fc1 = nn.Linear(16 * 5 * 5, 120)\n",
    "#        self.fc2 = nn.Linear(120, 84)\n",
    "#        self.fc3 = nn.Linear(84, 19) #输出层\n",
    "\n",
    "#    def forward(self, x):\n",
    "#        x = self.pool(F.relu(self.conv1(x)))\n",
    "#        x = self.pool(F.relu(self.conv2(x)))\n",
    "#        x = x.view(-1, 16 * 5 * 5)\n",
    "#        x = F.relu(self.fc1(x))\n",
    "#        x = F.relu(self.fc2(x))\n",
    "#        x = self.fc3(x)\n",
    "#        return x\n",
    "\n",
    "#net = Net()\n",
    "\n",
    "\n",
    "\n",
    "PATH = './Resnet_net.pth'\n",
    "net=models.resnet18(pretrained=True)\n",
    "#net = models.resnext50_32x4d(pretrained=True)\n",
    "num_ftrs=net.fc.in_features\n",
    "net.fc=nn.Linear(num_ftrs,19)\n",
    "net.load_state_dict(torch.load(PATH,map_location=lambda storage,loc: storage))\n",
    "net.fc=nn.Linear(num_ftrs,11)"
   ]
  },
  {
   "cell_type": "code",
   "execution_count": 4,
   "metadata": {},
   "outputs": [
    {
     "name": "stdout",
     "output_type": "stream",
     "text": [
      "Finished Training\n"
     ]
    }
   ],
   "source": [
    "\n",
    "import torch.optim as optim\n",
    "#定义优化模型\n",
    "criterion = nn.CrossEntropyLoss()\n",
    "\n",
    "#optimizer = optim.SGD(net.parameters(), lr=0.001, momentum=0.9)\n",
    "#scheduler=optim.lr_scheduler.StepLR(optimizer,step_size=10000,gamma=0.2)\n",
    "\n",
    "\n",
    "ignored_params= list(map(id,net.fc.parameters()))\n",
    "base_params=filter(lambda p: id(p) not in ignored_params, net.parameters())\n",
    "optimizer=torch.optim.SGD([\n",
    "    {'params':base_params},\n",
    "    {'params':net.fc.parameters(),'lr':0.001}\n",
    "],lr=0,momentum=0.9)\n",
    "\n",
    "\n",
    "#%%\n",
    "\n",
    "import os\n",
    "#os.environ[\"CUDA_VISIBLE_DEVICES\"]=\"2\"\n",
    "#net=net.cuda()\n",
    "#训练网络\n",
    "for epoch in range(40):  # loop over the dataset multiple times\n",
    "    running_loss = 0.0\n",
    "#    for i, data in enumerate(trainloader, 0):\n",
    "\n",
    "    for i, data in enumerate(trainloader, 0):\n",
    "        # get the inputs; data is a list of [inputs, labels]\n",
    "        inputs, labels = data\n",
    "\n",
    "        #inputs=inputs.cuda()\n",
    "        #labels=labels.cuda()\n",
    "\n",
    "        # zero the parameter gradients\n",
    "        optimizer.zero_grad()\n",
    "\n",
    "        # forward + backward + optimize\n",
    "        outputs = net(inputs)\n",
    "        loss = criterion(outputs, labels)\n",
    "        loss.backward()\n",
    "\n",
    "        optimizer.step()\n",
    "        #scheduler.step()\n",
    "\n",
    "        # print statistics\n",
    "        running_loss += loss.item()\n",
    "        if i % 100 == 99:    # print every 2000 mini-batches\n",
    "            print('[%d, %5d] loss: %.3f' %\n",
    "                  (epoch + 1, i + 1, running_loss / 100))\n",
    "            running_loss = 0.0\n",
    "\n",
    "print('Finished Training')"
   ]
  },
  {
   "cell_type": "code",
   "execution_count": 5,
   "metadata": {},
   "outputs": [
    {
     "data": {
      "text/plain": [
       "<All keys matched successfully>"
      ]
     },
     "execution_count": 5,
     "metadata": {},
     "output_type": "execute_result"
    }
   ],
   "source": [
    "#%%\n",
    "PATH = './Resnet_fewshotnet.pth'\n",
    "torch.save(net.state_dict(), PATH)\n",
    "#dataiter = iter(valloader)\n",
    "#images, labels = dataiter.next()\n",
    "\n",
    "#第1个batch的分类结果\n",
    "#print (images)\n",
    "#print('GroundTruth: ', ' '.join('%5s' % classes[labels[j]] for j in range(4)))\n",
    "#net = Net()\n",
    "net=models.resnet18(pretrained=True)\n",
    "#net = models.resnext50_32x4d(pretrained=True)\n",
    "num_ftrs=net.fc.in_features\n",
    "net.fc=nn.Linear(num_ftrs,11)\n",
    "net.load_state_dict(torch.load(PATH))\n",
    "#outputs = net(images)\n",
    "#_, predicted = torch.max(outputs, 1)\n",
    "#print('Predicted: ', ' '.join('%5s' % classes[predicted[j]]\n",
    "#                              for j in range(32)))\n"
   ]
  },
  {
   "cell_type": "code",
   "execution_count": 6,
   "metadata": {},
   "outputs": [
    {
     "name": "stdout",
     "output_type": "stream",
     "text": [
      "Accuracy of the network on the test images: 59 %\n",
      "Accuracy of    p1 : 25 %\n",
      "Accuracy of    p3 : 80 %\n",
      "Accuracy of    p6 : 70 %\n",
      "Accuracy of    p9 : 63 %\n",
      "Accuracy of   p12 : 60 %\n",
      "Accuracy of   p14 : 70 %\n",
      "Accuracy of   p17 : 50 %\n",
      "Accuracy of   p19 : 95 %\n",
      "Accuracy of   p22 : 50 %\n",
      "Accuracy of   p25 : 47 %\n",
      "Accuracy of   p27 : 20 %\n"
     ]
    }
   ],
   "source": [
    "\n",
    "#统计正确率\n",
    "correct = 0\n",
    "total = 0\n",
    "with torch.no_grad():\n",
    "    for data in valloader:\n",
    "        images, labels = data\n",
    "        outputs = net(images)\n",
    "        _, predicted = torch.max(outputs.data, 1)\n",
    "        total += labels.size(0)\n",
    "        correct += (predicted == labels).sum().item()\n",
    "\n",
    "print('Accuracy of the network on the test images: %d %%' % (\n",
    "    100 * correct / total))\n",
    "\n",
    "#%%\n",
    "#统计各类别的正确率\n",
    "class_correct = list(0. for i in range(11))\n",
    "class_total = list(0. for i in range(11))\n",
    "with torch.no_grad():\n",
    "    for data in valloader:\n",
    "        images, labels = data\n",
    "        outputs = net(images)\n",
    "        _, predicted = torch.max(outputs.data, 1)\n",
    "        for i in range(labels.shape[0]):\n",
    "            label = labels[i]\n",
    "            class_correct[label] += (predicted[i] == labels[i]).sum().item()\n",
    "            class_total[label] += 1\n",
    "\n",
    "for i in range(11):\n",
    "    print('Accuracy of %5s : %2d %%' % (\n",
    "        classes[i], 100 * class_correct[i] / class_total[i]))"
   ]
  },
  {
   "cell_type": "code",
   "execution_count": null,
   "metadata": {},
   "outputs": [],
   "source": []
  }
 ],
 "metadata": {
  "kernelspec": {
   "display_name": "Python 3",
   "language": "python",
   "name": "python3"
  },
  "language_info": {
   "codemirror_mode": {
    "name": "ipython",
    "version": 3
   },
   "file_extension": ".py",
   "mimetype": "text/x-python",
   "name": "python",
   "nbconvert_exporter": "python",
   "pygments_lexer": "ipython3",
   "version": "3.7.4"
  }
 },
 "nbformat": 4,
 "nbformat_minor": 4
}
