{
 "cells": [
  {
   "cell_type": "code",
   "execution_count": 25,
   "metadata": {},
   "outputs": [],
   "source": [
    "%matplotlib inline"
   ]
  },
  {
   "cell_type": "code",
   "execution_count": 26,
   "metadata": {},
   "outputs": [],
   "source": [
    "import torch\n",
    "import torchvision\n",
    "from torchvision import transforms\n",
    "import matplotlib.pyplot as plt\n",
    "from torchvision.datasets import ImageFolder"
   ]
  },
  {
   "cell_type": "code",
   "execution_count": 37,
   "metadata": {},
   "outputs": [],
   "source": [
    "# 读取数据\n",
    "train_dir='/home/tsinghuaee113/jupyter_projects/Classification/Data/Train'\n",
    "val_dir='/home/tsinghuaee113/jupyter_projects/Classification/Data/Val'\n",
    "test_dir='/home/tsinghuaee113/jupyter_projects/Classification/Data/Test'\n",
    "transform  = transforms.Compose([\n",
    "    transforms.Resize((32,32)),\n",
    "    #transforms.RandomHorizontalFlip(),\n",
    "    transforms.ToTensor(),\n",
    "    transforms.Normalize(mean=[0.5, 0.5, 0.5], std=[0.4, 0.4, 0.4]),\n",
    "])\n",
    "#读取数据时对数据进行初步处理：大小归一化，值强度归一化\n",
    "trainset = ImageFolder(train_dir, transform=transform)\n",
    "trainloader = torch.utils.data.DataLoader(trainset, batch_size=64,\n",
    "                                          shuffle=True, num_workers=4)\n",
    "\n",
    "valset=ImageFolder(val_dir,transform=transform)\n",
    "valloader = torch.utils.data.DataLoader(valset, batch_size=64,\n",
    "                                        shuffle=True, num_workers=4)\n",
    "\n",
    "testset=ImageFolder(test_dir,transform=transform)\n",
    "testloader = torch.utils.data.DataLoader(testset, batch_size=64,\n",
    "                                        shuffle=True, num_workers=4)\n",
    "\n",
    "classes = ('i2', 'i4', 'i5', 'io','ip','p5','p11','p23','p26','pl5','pl30','pl40','pl50','pl60'\n",
    "           'pl60','pl80','pn','pne','po','w57')"
   ]
  },
  {
   "cell_type": "code",
   "execution_count": 38,
   "metadata": {},
   "outputs": [],
   "source": [
    "import torch.nn as nn\n",
    "import torch.nn.functional as F\n",
    "'''\n",
    "#网络模型\n",
    "class Net(nn.Module):\n",
    "    def __init__(self):\n",
    "        super(Net, self).__init__()\n",
    "        self.conv1 = nn.Conv2d(3, 6, 5)\n",
    "        self.pool = nn.MaxPool2d(2, 2)\n",
    "        self.conv2 = nn.Conv2d(6, 16, 5)\n",
    "        self.fc1 = nn.Linear(16 * 5 * 5, 120)\n",
    "        self.fc2 = nn.Linear(120, 84)\n",
    "        self.fc3 = nn.Linear(84, 19) #输出层，分类19类\n",
    "\n",
    "    def forward(self, x):\n",
    "        x = self.pool(F.relu(self.conv1(x)))\n",
    "        x = self.pool(F.relu(self.conv2(x)))\n",
    "        x = x.view(-1, 16 * 5 * 5)\n",
    "        x = F.relu(self.fc1(x))\n",
    "        x = F.relu(self.fc2(x))\n",
    "        x = self.fc3(x)\n",
    "        return x\n",
    "\n",
    "net = Net()\n",
    "\n",
    "'''\n",
    "# get model and replace the original fc layer with your fc layer\n",
    "from torchvision import models\n",
    "from torch import nn\n",
    "\n",
    "net=models.resnet18(pretrained=True)\n",
    "num_ftrs=net.fc.in_features\n",
    "net.fc=nn.Linear(num_ftrs,19)\n"
   ]
  },
  {
   "cell_type": "code",
   "execution_count": 47,
   "metadata": {},
   "outputs": [
    {
     "data": {
      "text/plain": [
       "\"\\n# resnet18和小样本可用方法\\nignored_params= list(map(id,net.fc.parameters())) #只对最后一层进行优化\\nbase_params=filter(lambda p: id(p) not in ignored_params, net.parameters())\\noptimizer=torch.optim.SGD([\\n    {'params':base_params}, # 除最后一层fc之外的其余层学习率是0\\n    {'params':net.fc.parameters(),'lr':0.001} # fc学习率是0.001\\n],lr=0,momentum=0.9)\\n\""
      ]
     },
     "execution_count": 47,
     "metadata": {},
     "output_type": "execute_result"
    }
   ],
   "source": [
    "import torch.optim as optim\n",
    "#定义优化模型\n",
    "criterion = nn.CrossEntropyLoss()\n",
    "\n",
    "optimizer = optim.SGD(net.parameters(), lr=0.001, momentum=0.9)#所有参数都是0.001的学习率和0.9的动量\n",
    "scheduler=optim.lr_scheduler.StepLR(optimizer,step_size=10000,gamma=0.1) # 学习7步后学习率乘0.1递减\n",
    "\n",
    "'''\n",
    "# resnet18和小样本可用方法\n",
    "ignored_params= list(map(id,net.fc.parameters())) #只对最后一层进行优化\n",
    "base_params=filter(lambda p: id(p) not in ignored_params, net.parameters())\n",
    "optimizer=torch.optim.SGD([\n",
    "    {'params':base_params}, # 除最后一层fc之外的其余层学习率是0\n",
    "    {'params':net.fc.parameters(),'lr':0.001} # fc学习率是0.001\n",
    "],lr=0,momentum=0.9)\n",
    "'''"
   ]
  },
  {
   "cell_type": "code",
   "execution_count": null,
   "metadata": {},
   "outputs": [
    {
     "name": "stdout",
     "output_type": "stream",
     "text": [
      "[1,   100] loss: 0.002\n",
      "[2,   100] loss: 0.002\n",
      "[3,   100] loss: 0.003\n",
      "[4,   100] loss: 0.002\n",
      "[5,   100] loss: 0.002\n",
      "[6,   100] loss: 0.001\n",
      "[7,   100] loss: 0.001\n",
      "[8,   100] loss: 0.002\n",
      "[9,   100] loss: 0.001\n",
      "[10,   100] loss: 0.003\n",
      "[11,   100] loss: 0.001\n",
      "[12,   100] loss: 0.002\n",
      "[13,   100] loss: 0.001\n",
      "[14,   100] loss: 0.002\n",
      "[15,   100] loss: 0.002\n",
      "[16,   100] loss: 0.002\n",
      "[17,   100] loss: 0.001\n",
      "[18,   100] loss: 0.001\n",
      "[19,   100] loss: 0.001\n",
      "[20,   100] loss: 0.002\n",
      "[21,   100] loss: 0.001\n",
      "[22,   100] loss: 0.001\n",
      "[23,   100] loss: 0.001\n",
      "[24,   100] loss: 0.001\n"
     ]
    }
   ],
   "source": [
    "# training part\n",
    "import os\n",
    "\n",
    "# 指定GPU\n",
    "os.environ[\"CUDA_VISIBLE_DEVICES\"]=\"2\"\n",
    "net=net.cuda()\n",
    "\n",
    "#训练网络\n",
    "for epoch in range(32):  # loop over the dataset multiple times\n",
    "    running_loss = 0.0\n",
    "    for i, data in enumerate(trainloader, 0):\n",
    "        # get the inputs; data is a list of [inputs, labels]\n",
    "        inputs, labels = data\n",
    "\n",
    "        inputs=inputs.cuda()\n",
    "        labels=labels.cuda()\n",
    "\n",
    "        # zero the parameter gradients\n",
    "        optimizer.zero_grad()\n",
    "\n",
    "        # forward + backward + optimize\n",
    "        outputs = net(inputs)\n",
    "        loss = criterion(outputs, labels)\n",
    "        loss.backward()\n",
    "\n",
    "        optimizer.step()\n",
    "        scheduler.step()\n",
    "\n",
    "        # print statistics\n",
    "        running_loss += loss.item()\n",
    "        if i % 100 == 99:    # print every 2000 mini-batches\n",
    "            print('[%d, %5d] loss: %.3f' %\n",
    "                  (epoch + 1, i + 1, running_loss / 100))\n",
    "            running_loss = 0.0\n",
    "\n",
    "print('Finished Training')"
   ]
  },
  {
   "cell_type": "code",
   "execution_count": null,
   "metadata": {},
   "outputs": [],
   "source": [
    "PATH = './1_resnet18.pth'\n",
    "torch.save(net.state_dict(), PATH)"
   ]
  },
  {
   "cell_type": "code",
   "execution_count": null,
   "metadata": {},
   "outputs": [],
   "source": [
    "'''\n",
    "dataiter = iter(valloader)\n",
    "images, labels = dataiter.next()\n",
    "#print images\n",
    "#imshow(torchvision.utils.make_grid(images[:4]))\n",
    "print('GroundTruth: ', ' '.join('%5s' % classes[labels[j]] for j in range(4)))\n",
    "'''"
   ]
  },
  {
   "cell_type": "code",
   "execution_count": null,
   "metadata": {},
   "outputs": [],
   "source": [
    "#net = Net()\n",
    "\n",
    "net = models.resnet18(pretrained=True)\n",
    "num_ftrs=net.fc.in_features\n",
    "net.fc=nn.Linear(num_ftrs,19)\n",
    "\n",
    "net.load_state_dict(torch.load(PATH))"
   ]
  },
  {
   "cell_type": "code",
   "execution_count": null,
   "metadata": {},
   "outputs": [],
   "source": [
    "'''\n",
    "outputs = net(images)\n",
    "_, predicted = torch.max(outputs, 1)\n",
    "print('Predicted: ', ' '.join('%5s' % classes[predicted[j]]\n",
    "                              for j in range(4)))\n",
    "'''"
   ]
  },
  {
   "cell_type": "code",
   "execution_count": null,
   "metadata": {},
   "outputs": [],
   "source": [
    "#统计正确率\n",
    "correct = 0\n",
    "total = 0\n",
    "with torch.no_grad():\n",
    "    for data in valloader:\n",
    "        images, labels = data\n",
    "        outputs = net(images)\n",
    "        _, predicted = torch.max(outputs.data, 1)\n",
    "        total += labels.size(0)\n",
    "        correct += (predicted == labels).sum().item()\n",
    "\n",
    "print('Accuracy of the network on the test images: %d %%' % (\n",
    "    100 * correct / total))"
   ]
  },
  {
   "cell_type": "code",
   "execution_count": null,
   "metadata": {},
   "outputs": [],
   "source": [
    "#统计各类别的正确率\n",
    "class_correct = list(0. for i in range(19))\n",
    "class_total = list(0. for i in range(19))\n",
    "with torch.no_grad():\n",
    "    for data in valloader:\n",
    "        images, labels = data\n",
    "        outputs = net(images)\n",
    "        _, predicted = torch.max(outputs.data, 1)\n",
    "        for i in range(labels.shape[0]):\n",
    "            label = labels[i]\n",
    "            class_correct[label] += (predicted[i] == labels[i]).sum().item()\n",
    "            class_total[label] += 1\n",
    "\n",
    "for i in range(19):\n",
    "    print('Accuracy of %5s : %2d %%' % (\n",
    "        classes[i], 100 * class_correct[i] / class_total[i]))"
   ]
  },
  {
   "cell_type": "code",
   "execution_count": null,
   "metadata": {},
   "outputs": [],
   "source": [
    "#测试集结果\n",
    "with torch.no_grad():\n",
    "    for data in testloader:\n",
    "        images, labels = data\n",
    "        outputs = net(images)\n",
    "        _, predicted = torch.max(outputs.data, 1)\n",
    "#然后存成什么格式，没看懂 什么玩意"
   ]
  }
 ],
 "metadata": {
  "kernelspec": {
   "display_name": "Python (myenv_1)",
   "language": "python",
   "name": "myenv_1"
  },
  "language_info": {
   "codemirror_mode": {
    "name": "ipython",
    "version": 3
   },
   "file_extension": ".py",
   "mimetype": "text/x-python",
   "name": "python",
   "nbconvert_exporter": "python",
   "pygments_lexer": "ipython3",
   "version": "3.7.7"
  }
 },
 "nbformat": 4,
 "nbformat_minor": 4
}
